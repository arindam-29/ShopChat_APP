{
 "cells": [
  {
   "cell_type": "markdown",
   "metadata": {},
   "source": [
    "Your Full Name: \n",
    "    \n",
    "`Arindam Choudhury`\n",
    "\n",
    "    Nutan Mandale\n",
    "    \n",
    "    Humberto Gonzalez Granda\n",
    "\n",
    "Your Uplevel Email Address:\n",
    "    \n",
    "    arindam.choudhury.email@gmail.com\n",
    "    \n",
    "    nutan.mandale@gmail.com\n",
    "    \n",
    "    HumbertoGonzalezGranda@gmail.com\n",
    "\n",
    "Name of the Problem Statement of Submission:\n",
    "    \n",
    "    ShopTalk (Project-6)"
   ]
  },
  {
   "cell_type": "code",
   "execution_count": 15,
   "metadata": {},
   "outputs": [],
   "source": [
    "from src.utils import download_directory_from_s3, upload_directory_to_s3\n",
    "import os\n",
    "import shutil\n",
    "import pandas as pd\n",
    "from dotenv import load_dotenv"
   ]
  },
  {
   "cell_type": "code",
   "execution_count": 16,
   "metadata": {},
   "outputs": [],
   "source": [
    "load_dotenv()\n",
    "ABO_BUCKET_NAME:      str = os.getenv(\"ABO_BUCKET_NAME\")\n",
    "SHOPCHAT_BUCKET_NAME: str = os.getenv(\"SHOPCHAT_BUCKET_NAME\")\n",
    "YOUR_S3_BUCKET_NAME:  str = os.getenv(\"YOUR_S3_BUCKET_NAME\")\n",
    "ARTIFACTS_FOLDER:     str = os.getenv(\"ARTIFACTS_FOLDER\")"
   ]
  },
  {
   "cell_type": "markdown",
   "metadata": {},
   "source": [
    "#### Set all variables"
   ]
  },
  {
   "cell_type": "code",
   "execution_count": 17,
   "metadata": {},
   "outputs": [],
   "source": [
    "app_artifacts_folder: str = \"../artifacts/S3_FILES/\"\n",
    "\n",
    "GOOGLE_FIASS_DB:      str = \"GOOGLE_FAISS_DB\"\n",
    "OPENAI_FAISS_DB:      str = \"OPENAI_FAISS_DB\"\n",
    "#FINETUNE_FAISS_DB:    str = \"FINETUNE_FAISS_DB\"\n",
    "EDA_FILES:            str = \"EDA_FILES\"\n",
    "FINETUNE:             str = \"FINETUNE\"\n",
    "PROCESSED:            str = \"PROCESSED\"\n",
    "\n",
    "google_path:          str = f\"{app_artifacts_folder}{GOOGLE_FIASS_DB}\"\n",
    "openai_path:          str = f\"{app_artifacts_folder}{OPENAI_FAISS_DB}\"\n",
    "#finetune_path:        str = f\"{app_artifacts_folder}{FINETUNE_FAISS_DB}\"\n",
    "eda_files:            str = f\"{app_artifacts_folder}{EDA_FILES}\"\n",
    "finetune_path:        str = f\"{app_artifacts_folder}{FINETUNE}\"\n",
    "processed_path:       str = f\"{app_artifacts_folder}{PROCESSED}\""
   ]
  },
  {
   "cell_type": "markdown",
   "metadata": {},
   "source": [
    "#### Get all files and folders from project shopchat-data-bucket"
   ]
  },
  {
   "cell_type": "code",
   "execution_count": 18,
   "metadata": {},
   "outputs": [],
   "source": [
    "download_directory_from_s3(SHOPCHAT_BUCKET_NAME, GOOGLE_FIASS_DB, app_artifacts_folder)\n",
    "#download_directory_from_s3(SHOPCHAT_BUCKET_NAME, OPENAI_FAISS_DB, app_artifacts_folder)\n",
    "#download_directory_from_s3(SHOPCHAT_BUCKET_NAME, FINETUNE_FAISS_DB, app_artifacts_folder)\n",
    "#download_directory_from_s3(SHOPCHAT_BUCKET_NAME, EDA_FILES, app_artifacts_folder)\n",
    "#download_directory_from_s3(SHOPCHAT_BUCKET_NAME, FINETUNE, app_artifacts_folder)\n",
    "#download_directory_from_s3(SHOPCHAT_BUCKET_NAME, PROCESSED, app_artifacts_folder)"
   ]
  },
  {
   "cell_type": "markdown",
   "metadata": {},
   "source": [
    "#### Upload all files to your S3 bucket"
   ]
  },
  {
   "cell_type": "code",
   "execution_count": 5,
   "metadata": {},
   "outputs": [
    {
     "name": "stdout",
     "output_type": "stream",
     "text": [
      "Uploaded GOOGLE_FAISS_DB/index.faiss to S3 bucket shopchat-s3-buckect\n",
      "Uploaded GOOGLE_FAISS_DB/index.pkl to S3 bucket shopchat-s3-buckect\n",
      "Uploaded OPENAI_FAISS_DB/index.faiss to S3 bucket shopchat-s3-buckect\n",
      "Uploaded OPENAI_FAISS_DB/index.pkl to S3 bucket shopchat-s3-buckect\n"
     ]
    }
   ],
   "source": [
    "upload_directory_to_s3(YOUR_S3_BUCKET_NAME, GOOGLE_FIASS_DB, google_path)\n",
    "upload_directory_to_s3(YOUR_S3_BUCKET_NAME, OPENAI_FAISS_DB, openai_path)\n",
    "#upload_directory_to_s3(SHOPCHAT_BUCKET_NAME, FINETUNE_FAISS_DB, finetune_path)\n",
    "#upload_directory_to_s3(YOUR_S3_BUCKET_NAME, EDA_FILES, eda_files)\n",
    "#upload_directory_to_s3(YOUR_S3_BUCKET_NAME, FINETUNE, finetune_path)\n",
    "#upload_directory_to_s3(YOUR_S3_BUCKET_NAME, PROCESSED, processed_path)"
   ]
  },
  {
   "cell_type": "markdown",
   "metadata": {},
   "source": [
    "#### Get dataset.json from shopchat-data-bucket "
   ]
  },
  {
   "cell_type": "code",
   "execution_count": 7,
   "metadata": {},
   "outputs": [],
   "source": [
    "dataset_json_project:   str = f\"s3://{SHOPCHAT_BUCKET_NAME}/{PROCESSED}/dataset.json\"\n",
    "dataset_json_your:      str = f\"s3://{YOUR_S3_BUCKET_NAME}/{PROCESSED}/dataset.json\"\n",
    "dataset_json_loacal:    str = f\"{app_artifacts_folder}/dataset.json\""
   ]
  },
  {
   "cell_type": "code",
   "execution_count": 8,
   "metadata": {},
   "outputs": [],
   "source": [
    "dataset = pd.read_json(dataset_json_project)"
   ]
  },
  {
   "cell_type": "markdown",
   "metadata": {},
   "source": [
    "#### View the dataset"
   ]
  },
  {
   "cell_type": "code",
   "execution_count": 9,
   "metadata": {},
   "outputs": [
    {
     "data": {
      "text/html": [
       "<div>\n",
       "<style scoped>\n",
       "    .dataframe tbody tr th:only-of-type {\n",
       "        vertical-align: middle;\n",
       "    }\n",
       "\n",
       "    .dataframe tbody tr th {\n",
       "        vertical-align: top;\n",
       "    }\n",
       "\n",
       "    .dataframe thead th {\n",
       "        text-align: right;\n",
       "    }\n",
       "</style>\n",
       "<table border=\"1\" class=\"dataframe\">\n",
       "  <thead>\n",
       "    <tr style=\"text-align: right;\">\n",
       "      <th></th>\n",
       "      <th>item_id</th>\n",
       "      <th>product_type</th>\n",
       "      <th>country</th>\n",
       "      <th>marketplace</th>\n",
       "      <th>domain_name</th>\n",
       "      <th>color_code</th>\n",
       "      <th>spin_id</th>\n",
       "      <th>3dmodel_id</th>\n",
       "      <th>brand_in_en_us</th>\n",
       "      <th>bullet_point_in_en_us</th>\n",
       "      <th>...</th>\n",
       "      <th>item_shape_in_en_us</th>\n",
       "      <th>material_in_en_us</th>\n",
       "      <th>model_name_in_en_us</th>\n",
       "      <th>pattern_in_en_us</th>\n",
       "      <th>product_description_in_en_us</th>\n",
       "      <th>height</th>\n",
       "      <th>width</th>\n",
       "      <th>path</th>\n",
       "      <th>other_image_id_path</th>\n",
       "      <th>image_caption</th>\n",
       "    </tr>\n",
       "  </thead>\n",
       "  <tbody>\n",
       "    <tr>\n",
       "      <th>0</th>\n",
       "      <td>B0896LJNLH</td>\n",
       "      <td>[{'value': 'DRINKING_CUP'}]</td>\n",
       "      <td>US</td>\n",
       "      <td>Amazon</td>\n",
       "      <td>amazon.com</td>\n",
       "      <td>None</td>\n",
       "      <td>None</td>\n",
       "      <td>None</td>\n",
       "      <td>AmazonBasics</td>\n",
       "      <td>Lead-free glass: made of crystal-clear, lead-f...</td>\n",
       "      <td>...</td>\n",
       "      <td>None</td>\n",
       "      <td>None</td>\n",
       "      <td>None</td>\n",
       "      <td>None</td>\n",
       "      <td>None</td>\n",
       "      <td>1197</td>\n",
       "      <td>894</td>\n",
       "      <td>07/075e5d67.jpg</td>\n",
       "      <td>[f2/f24e42d9.jpg, 2d/2da4a5ac.jpg, ed/ed444f23...</td>\n",
       "      <td>a close up of a glass of water on a white back...</td>\n",
       "    </tr>\n",
       "    <tr>\n",
       "      <th>1</th>\n",
       "      <td>B07HCR1LSQ</td>\n",
       "      <td>[{'value': 'EARRING'}]</td>\n",
       "      <td>JP</td>\n",
       "      <td>Amazon</td>\n",
       "      <td>amazon.co.jp</td>\n",
       "      <td>None</td>\n",
       "      <td>None</td>\n",
       "      <td>None</td>\n",
       "      <td>None</td>\n",
       "      <td>None</td>\n",
       "      <td>...</td>\n",
       "      <td>None</td>\n",
       "      <td>None</td>\n",
       "      <td>None</td>\n",
       "      <td>None</td>\n",
       "      <td>None</td>\n",
       "      <td>1000</td>\n",
       "      <td>1000</td>\n",
       "      <td>c9/c923418f.jpg</td>\n",
       "      <td>None</td>\n",
       "      <td>a pair of earrings with a square cut diamond a...</td>\n",
       "    </tr>\n",
       "  </tbody>\n",
       "</table>\n",
       "<p>2 rows × 25 columns</p>\n",
       "</div>"
      ],
      "text/plain": [
       "      item_id                 product_type country marketplace   domain_name  \\\n",
       "0  B0896LJNLH  [{'value': 'DRINKING_CUP'}]      US      Amazon    amazon.com   \n",
       "1  B07HCR1LSQ       [{'value': 'EARRING'}]      JP      Amazon  amazon.co.jp   \n",
       "\n",
       "  color_code spin_id 3dmodel_id brand_in_en_us  \\\n",
       "0       None    None       None   AmazonBasics   \n",
       "1       None    None       None           None   \n",
       "\n",
       "                               bullet_point_in_en_us  ... item_shape_in_en_us  \\\n",
       "0  Lead-free glass: made of crystal-clear, lead-f...  ...                None   \n",
       "1                                               None  ...                None   \n",
       "\n",
       "  material_in_en_us model_name_in_en_us pattern_in_en_us  \\\n",
       "0              None                None             None   \n",
       "1              None                None             None   \n",
       "\n",
       "  product_description_in_en_us height width             path  \\\n",
       "0                         None   1197   894  07/075e5d67.jpg   \n",
       "1                         None   1000  1000  c9/c923418f.jpg   \n",
       "\n",
       "                                 other_image_id_path  \\\n",
       "0  [f2/f24e42d9.jpg, 2d/2da4a5ac.jpg, ed/ed444f23...   \n",
       "1                                               None   \n",
       "\n",
       "                                       image_caption  \n",
       "0  a close up of a glass of water on a white back...  \n",
       "1  a pair of earrings with a square cut diamond a...  \n",
       "\n",
       "[2 rows x 25 columns]"
      ]
     },
     "execution_count": 9,
     "metadata": {},
     "output_type": "execute_result"
    }
   ],
   "source": [
    "dataset.head(2)"
   ]
  },
  {
   "cell_type": "markdown",
   "metadata": {},
   "source": [
    "#### Save dataset.json to local folder"
   ]
  },
  {
   "cell_type": "code",
   "execution_count": 9,
   "metadata": {},
   "outputs": [],
   "source": [
    "dataset.to_json(dataset_json_loacal, orient='records')"
   ]
  },
  {
   "cell_type": "markdown",
   "metadata": {},
   "source": [
    "#### Save dataset.json to your S3 bucket"
   ]
  },
  {
   "cell_type": "code",
   "execution_count": 6,
   "metadata": {},
   "outputs": [],
   "source": [
    "dataset.to_json(dataset_json_your, orient='records')"
   ]
  },
  {
   "cell_type": "code",
   "execution_count": 19,
   "metadata": {},
   "outputs": [
    {
     "name": "stdout",
     "output_type": "stream",
     "text": [
      "All local S3 folders removed successfully.\n"
     ]
    }
   ],
   "source": [
    "if os.path.exists(app_artifacts_folder):\n",
    "    shutil.rmtree(app_artifacts_folder)\n",
    "    print(\"All local S3 folders removed successfully.\")"
   ]
  }
 ],
 "metadata": {
  "kernelspec": {
   "display_name": "venv",
   "language": "python",
   "name": "python3"
  },
  "language_info": {
   "codemirror_mode": {
    "name": "ipython",
    "version": 3
   },
   "file_extension": ".py",
   "mimetype": "text/x-python",
   "name": "python",
   "nbconvert_exporter": "python",
   "pygments_lexer": "ipython3",
   "version": "3.9.6"
  }
 },
 "nbformat": 4,
 "nbformat_minor": 2
}

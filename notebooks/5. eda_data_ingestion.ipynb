{
 "cells": [
  {
   "cell_type": "markdown",
   "metadata": {},
   "source": [
    "Your Full Name: \n",
    "    \n",
    "`Arindam Choudhury`\n",
    "\n",
    "    Nutan Mandale\n",
    "    \n",
    "    Humberto Gonzalez Granda\n",
    "\n",
    "Your Uplevel Email Address:\n",
    "    \n",
    "    arindam.choudhury.email@gmail.com\n",
    "    \n",
    "    nutan.mandale@gmail.com\n",
    "    \n",
    "    HumbertoGonzalezGranda@gmail.com\n",
    "\n",
    "Name of the Problem Statement of Submission:\n",
    "    \n",
    "    ShopTalk (Project-6)"
   ]
  },
  {
   "cell_type": "code",
   "execution_count": 1,
   "metadata": {},
   "outputs": [],
   "source": [
    "import os\n",
    "import sys\n",
    "from src.exception import CustomException\n",
    "from src.logger import logging\n",
    "import logging\n",
    "import pandas as pd\n",
    "import s3fs\n",
    "import glob\n",
    "from dotenv import load_dotenv\n",
    "from dataclasses import dataclass"
   ]
  },
  {
   "cell_type": "code",
   "execution_count": null,
   "metadata": {},
   "outputs": [],
   "source": [
    "@dataclass\n",
    "class DataIngestionConfig:\n",
    "    load_dotenv()\n",
    "    #file_name_pref              = ['0','1','2','3','4','5','6','7','8','9','a','b','c','d','e','f']\n",
    "    file_name_pref              = ['0'] # for testing load only one file\n",
    "\n",
    "    ABO_BUCKET_NAME:        str = os.getenv(\"ABO_BUCKET_NAME\")\n",
    "    YOUR_S3_BUCKET_NAME:    str = os.getenv(\"YOUR_S3_BUCKET_NAME\")\n",
    "    ARTIFACTS_FOLDER:       str = os.getenv(\"ARTIFACTS_FOLDER\")\n",
    "    EDA_FOLDER_NAME:        str = os.getenv(\"EDA_FOLDER_NAME\")\n",
    "\n",
    "    image_meta_data_path:   str = f\"s3://{ABO_BUCKET_NAME}/images/metadata/images.csv.gz\"\n",
    "    listing_meta_data_path: str = f\"s3://{ABO_BUCKET_NAME}/listings/metadata/\"\n",
    "\n",
    "    save_json_path:         str = f\"s3://{YOUR_S3_BUCKET_NAME}/{EDA_FOLDER_NAME}/processed/dataset.json\"\n"
   ]
  },
  {
   "cell_type": "code",
   "execution_count": 3,
   "metadata": {},
   "outputs": [],
   "source": [
    "class DataIngestion:\n",
    "    def __init__(self):\n",
    "        self.ingestion_config=DataIngestionConfig()\n",
    "    \n",
    "    def initiate_data_ingestion(self):\n",
    "        logging.info(\"Data Ingestion - started\")\n",
    "        try:\n",
    "            logging.info(\"Data Ingestion - file loading from AWS s3 server - started\")\n",
    "            \n",
    "            listing = []\n",
    "            for prefix in DataIngestionConfig.file_name_pref:\n",
    "                data = pd.read_json(f\"{DataIngestionConfig.listing_meta_data_path}listings_{prefix}.json.gz\", lines=True)\n",
    "                listing.append(data)\n",
    "           \n",
    "            listing_meta = pd.concat(listing, ignore_index=True)\n",
    "\n",
    "            logging.info(\"Data Ingestion - file loading from AWS s3 server - completed\")\n",
    "\n",
    "            def func_in_en_us_(x):\n",
    "                if isinstance(x, list):  # Check if x is a list before iterating\n",
    "                    us_texts = [item[\"value\"] for item in x if item[\"language_tag\"] == \"en_US\"]\n",
    "                    return us_texts[0] if us_texts else None\n",
    "                else:\n",
    "                    return None  # Handle cases where x is not a list (e.g., a float)\n",
    "\n",
    "            logging.info(\"Data Ingestion - processing listing meta data - started\")\n",
    "\n",
    "            listing_meta = listing_meta.assign(brand_in_en_us=listing_meta.brand.apply(func_in_en_us_))\n",
    "            listing_meta = listing_meta.assign(bullet_point_in_en_us=listing_meta.bullet_point.apply(func_in_en_us_))\n",
    "            listing_meta = listing_meta.assign(color_in_en_us=listing_meta.color.apply(func_in_en_us_))\n",
    "            listing_meta = listing_meta.assign(fabric_type_in_en_us=listing_meta.fabric_type.apply(func_in_en_us_))\n",
    "            listing_meta = listing_meta.assign(finish_type_in_en_us=listing_meta.finish_type.apply(func_in_en_us_))\n",
    "            listing_meta = listing_meta.assign(item_keywords_in_en_us=listing_meta.item_keywords.apply(func_in_en_us_))\n",
    "            listing_meta = listing_meta.assign(item_name_in_en_us=listing_meta.item_name.apply(func_in_en_us_))\n",
    "            listing_meta = listing_meta.assign(item_shape_in_en_us=listing_meta.item_shape.apply(func_in_en_us_))\n",
    "            listing_meta = listing_meta.assign(material_in_en_us=listing_meta.material.apply(func_in_en_us_))\n",
    "            listing_meta = listing_meta.assign(model_name_in_en_us=listing_meta.model_name.apply(func_in_en_us_))\n",
    "            listing_meta = listing_meta.assign(pattern_in_en_us=listing_meta.pattern.apply(func_in_en_us_))\n",
    "            listing_meta = listing_meta.assign(product_description_in_en_us=listing_meta.product_description.apply(func_in_en_us_)) \n",
    "               \n",
    "            listing_meta = listing_meta[~listing_meta.item_name_in_en_us.isna()]\n",
    "            \n",
    "            logging.info(\"Data Ingestion - processing listing meta data - completed\")\n",
    "\n",
    "            print(f\" number products with US English title: {len(listing_meta)}\")\n",
    "\n",
    "            logging.info(\"Data Ingestion - processing image meta data - started\")\n",
    "\n",
    "            image_meta = pd.read_csv(DataIngestionConfig.image_meta_data_path)\n",
    "            \n",
    "            dataset = listing_meta.merge(image_meta, left_on=\"main_image_id\", right_on=\"image_id\")\n",
    "            dataset = dataset.drop_duplicates(subset=['item_id'], keep='first')\n",
    "\n",
    "            def func_image_path_(image_ids):\n",
    "                if isinstance(image_ids, list):\n",
    "                    image_paths = [image_meta[image_meta[\"image_id\"] == image_id][\"path\"].to_list()[0] for image_id in image_ids]\n",
    "                    return image_paths if image_paths else None\n",
    "                else:\n",
    "                    return None\n",
    "            \n",
    "            dataset = dataset.assign(other_image_id_path=dataset.other_image_id.apply(func_image_path_))\n",
    "\n",
    "            logging.info(\"Data Ingestion - processing image meta data - completed\")\n",
    "\n",
    "            dataset = dataset.drop(columns=['brand', 'bullet_point', 'color', 'fabric_type', 'finish_type', 'item_keywords', \n",
    "                                            'item_name', 'item_shape', 'material', 'model_name', 'model_number', 'pattern', \n",
    "                                            'product_description', 'style', 'node', 'model_year', 'item_dimensions', 'item_weight',\n",
    "                                            'image_id', 'main_image_id', 'other_image_id'])\n",
    "\n",
    "            print(f\" number of matching products with US English title and image: {dataset.shape[0]}\")\n",
    "\n",
    "            logging.info(\"Data Ingestion - dataset.json uploading to AWS s3 server - started\")\n",
    "            dataset.to_json(self.ingestion_config.save_json_path, orient='records')\n",
    "           \n",
    "            logging.info(\"Data Ingestion - completed\")\n",
    "\n",
    "        except Exception as e:\n",
    "            raise CustomException(e, sys)"
   ]
  },
  {
   "cell_type": "code",
   "execution_count": 4,
   "metadata": {},
   "outputs": [
    {
     "name": "stdout",
     "output_type": "stream",
     "text": [
      " number products with US English title: 1655\n",
      " number of matching products with US English title and image: 1648\n"
     ]
    }
   ],
   "source": [
    "if __name__==\"__main__\":\n",
    "    obj=DataIngestion()\n",
    "    obj.initiate_data_ingestion()"
   ]
  }
 ],
 "metadata": {
  "kernelspec": {
   "display_name": "venv",
   "language": "python",
   "name": "python3"
  },
  "language_info": {
   "codemirror_mode": {
    "name": "ipython",
    "version": 3
   },
   "file_extension": ".py",
   "mimetype": "text/x-python",
   "name": "python",
   "nbconvert_exporter": "python",
   "pygments_lexer": "ipython3",
   "version": "3.9.6"
  }
 },
 "nbformat": 4,
 "nbformat_minor": 2
}

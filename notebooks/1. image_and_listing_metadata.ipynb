{
 "cells": [
  {
   "cell_type": "markdown",
   "metadata": {},
   "source": [
    "Your Full Name: \n",
    "    \n",
    "`Arindam Choudhury`\n",
    "\n",
    "    Nutan Mandale\n",
    "    \n",
    "    Humberto Gonzalez Granda\n",
    "\n",
    "Your Uplevel Email Address:\n",
    "    \n",
    "    arindam.choudhury.email@gmail.com\n",
    "    \n",
    "    nutan.mandale@gmail.com\n",
    "    \n",
    "    HumbertoGonzalezGranda@gmail.com\n",
    "\n",
    "Name of the Problem Statement of Submission:\n",
    "    \n",
    "    ShopTalk (Project-6)"
   ]
  },
  {
   "cell_type": "code",
   "execution_count": 1,
   "metadata": {},
   "outputs": [],
   "source": [
    "import pandas as pd\n",
    "from PIL import Image\n",
    "import matplotlib.pyplot as plt\n",
    "import os\n",
    "from dotenv import load_dotenv"
   ]
  },
  {
   "cell_type": "markdown",
   "metadata": {},
   "source": [
    "#### S3 Bucket name"
   ]
  },
  {
   "cell_type": "code",
   "execution_count": 2,
   "metadata": {},
   "outputs": [],
   "source": [
    "load_dotenv()\n",
    "ABO_BUCKET_NAME:      str = os.getenv(\"ABO_BUCKET_NAME\")\n",
    "YOUR_S3_BUCKET_NAME:  str = os.getenv(\"YOUR_S3_BUCKET_NAME\")\n",
    "ARTIFACTS_FOLDER:     str = os.getenv(\"ARTIFACTS_FOLDER\")\n",
    "EDA_FOLDER_NAME:      str = os.getenv(\"EDA_FOLDER_NAME\")"
   ]
  },
  {
   "cell_type": "markdown",
   "metadata": {},
   "source": [
    "#### Read the image meta dat file"
   ]
  },
  {
   "cell_type": "code",
   "execution_count": 3,
   "metadata": {},
   "outputs": [
    {
     "data": {
      "text/html": [
       "<div>\n",
       "<style scoped>\n",
       "    .dataframe tbody tr th:only-of-type {\n",
       "        vertical-align: middle;\n",
       "    }\n",
       "\n",
       "    .dataframe tbody tr th {\n",
       "        vertical-align: top;\n",
       "    }\n",
       "\n",
       "    .dataframe thead th {\n",
       "        text-align: right;\n",
       "    }\n",
       "</style>\n",
       "<table border=\"1\" class=\"dataframe\">\n",
       "  <thead>\n",
       "    <tr style=\"text-align: right;\">\n",
       "      <th></th>\n",
       "      <th>image_id</th>\n",
       "      <th>height</th>\n",
       "      <th>width</th>\n",
       "      <th>path</th>\n",
       "    </tr>\n",
       "  </thead>\n",
       "  <tbody>\n",
       "    <tr>\n",
       "      <th>0</th>\n",
       "      <td>010-mllS7JL</td>\n",
       "      <td>106</td>\n",
       "      <td>106</td>\n",
       "      <td>14/14fe8812.jpg</td>\n",
       "    </tr>\n",
       "    <tr>\n",
       "      <th>1</th>\n",
       "      <td>01dkn0Gyx0L</td>\n",
       "      <td>122</td>\n",
       "      <td>122</td>\n",
       "      <td>da/daab0cad.jpg</td>\n",
       "    </tr>\n",
       "    <tr>\n",
       "      <th>2</th>\n",
       "      <td>01sUPg0387L</td>\n",
       "      <td>111</td>\n",
       "      <td>111</td>\n",
       "      <td>d2/d2daaae9.jpg</td>\n",
       "    </tr>\n",
       "    <tr>\n",
       "      <th>3</th>\n",
       "      <td>1168jc-5r1L</td>\n",
       "      <td>186</td>\n",
       "      <td>186</td>\n",
       "      <td>3a/3a4e88e6.jpg</td>\n",
       "    </tr>\n",
       "    <tr>\n",
       "      <th>4</th>\n",
       "      <td>11RUV5Fs65L</td>\n",
       "      <td>30</td>\n",
       "      <td>500</td>\n",
       "      <td>d9/d91ab9cf.jpg</td>\n",
       "    </tr>\n",
       "  </tbody>\n",
       "</table>\n",
       "</div>"
      ],
      "text/plain": [
       "      image_id  height  width             path\n",
       "0  010-mllS7JL     106    106  14/14fe8812.jpg\n",
       "1  01dkn0Gyx0L     122    122  da/daab0cad.jpg\n",
       "2  01sUPg0387L     111    111  d2/d2daaae9.jpg\n",
       "3  1168jc-5r1L     186    186  3a/3a4e88e6.jpg\n",
       "4  11RUV5Fs65L      30    500  d9/d91ab9cf.jpg"
      ]
     },
     "execution_count": 3,
     "metadata": {},
     "output_type": "execute_result"
    }
   ],
   "source": [
    "i_meta_data_path = f\"s3://{ABO_BUCKET_NAME}/images/metadata/images.csv.gz\"\n",
    "i_meta = pd.read_csv(i_meta_data_path)\n",
    "i_meta.head()"
   ]
  },
  {
   "cell_type": "code",
   "execution_count": 4,
   "metadata": {},
   "outputs": [
    {
     "name": "stdout",
     "output_type": "stream",
     "text": [
      "Empty DataFrame\n",
      "Columns: [image_id, height, width, path]\n",
      "Index: []\n"
     ]
    }
   ],
   "source": [
    "duplicates = i_meta[i_meta.duplicated()] # check for duplicates\n",
    "print(duplicates)"
   ]
  },
  {
   "cell_type": "markdown",
   "metadata": {},
   "source": [
    "#### EDA is done for one Listing metadata file"
   ]
  },
  {
   "cell_type": "code",
   "execution_count": 5,
   "metadata": {},
   "outputs": [
    {
     "data": {
      "text/html": [
       "<div>\n",
       "<style scoped>\n",
       "    .dataframe tbody tr th:only-of-type {\n",
       "        vertical-align: middle;\n",
       "    }\n",
       "\n",
       "    .dataframe tbody tr th {\n",
       "        vertical-align: top;\n",
       "    }\n",
       "\n",
       "    .dataframe thead th {\n",
       "        text-align: right;\n",
       "    }\n",
       "</style>\n",
       "<table border=\"1\" class=\"dataframe\">\n",
       "  <thead>\n",
       "    <tr style=\"text-align: right;\">\n",
       "      <th></th>\n",
       "      <th>brand</th>\n",
       "      <th>bullet_point</th>\n",
       "      <th>color</th>\n",
       "      <th>item_id</th>\n",
       "      <th>item_name</th>\n",
       "      <th>model_name</th>\n",
       "      <th>model_number</th>\n",
       "      <th>model_year</th>\n",
       "      <th>product_type</th>\n",
       "      <th>style</th>\n",
       "      <th>...</th>\n",
       "      <th>item_weight</th>\n",
       "      <th>material</th>\n",
       "      <th>fabric_type</th>\n",
       "      <th>color_code</th>\n",
       "      <th>product_description</th>\n",
       "      <th>spin_id</th>\n",
       "      <th>3dmodel_id</th>\n",
       "      <th>pattern</th>\n",
       "      <th>finish_type</th>\n",
       "      <th>item_shape</th>\n",
       "    </tr>\n",
       "  </thead>\n",
       "  <tbody>\n",
       "    <tr>\n",
       "      <th>0</th>\n",
       "      <td>[{'language_tag': 'nl_NL', 'value': 'find.'}]</td>\n",
       "      <td>[{'language_tag': 'nl_NL', 'value': 'Schoen in...</td>\n",
       "      <td>[{'language_tag': 'nl_NL', 'value': 'Veelkleur...</td>\n",
       "      <td>B06X9STHNG</td>\n",
       "      <td>[{'language_tag': 'nl_NL', 'value': 'Amazon-me...</td>\n",
       "      <td>[{'language_tag': 'nl_NL', 'value': '37753'}]</td>\n",
       "      <td>[{'value': '12-05-04'}]</td>\n",
       "      <td>[{'value': 2017}]</td>\n",
       "      <td>[{'value': 'SHOES'}]</td>\n",
       "      <td>[{'language_tag': 'nl_NL', 'value': 'Gesloten-...</td>\n",
       "      <td>...</td>\n",
       "      <td>NaN</td>\n",
       "      <td>NaN</td>\n",
       "      <td>NaN</td>\n",
       "      <td>NaN</td>\n",
       "      <td>NaN</td>\n",
       "      <td>NaN</td>\n",
       "      <td>NaN</td>\n",
       "      <td>NaN</td>\n",
       "      <td>NaN</td>\n",
       "      <td>NaN</td>\n",
       "    </tr>\n",
       "    <tr>\n",
       "      <th>1</th>\n",
       "      <td>[{'language_tag': 'es_MX', 'value': 'AmazonBas...</td>\n",
       "      <td>[{'language_tag': 'es_MX', 'value': 'White Pow...</td>\n",
       "      <td>[{'language_tag': 'es_MX', 'value': 'White Pow...</td>\n",
       "      <td>B07P8ML82R</td>\n",
       "      <td>[{'language_tag': 'es_MX', 'value': '22\" Botto...</td>\n",
       "      <td>NaN</td>\n",
       "      <td>[{'value': 'AB5013-R22-10'}]</td>\n",
       "      <td>NaN</td>\n",
       "      <td>[{'value': 'HARDWARE'}]</td>\n",
       "      <td>[{'language_tag': 'es_MX', 'value': '10 pares'}]</td>\n",
       "      <td>...</td>\n",
       "      <td>[{'normalized_value': {'unit': 'pounds', 'valu...</td>\n",
       "      <td>NaN</td>\n",
       "      <td>NaN</td>\n",
       "      <td>NaN</td>\n",
       "      <td>NaN</td>\n",
       "      <td>NaN</td>\n",
       "      <td>NaN</td>\n",
       "      <td>NaN</td>\n",
       "      <td>NaN</td>\n",
       "      <td>NaN</td>\n",
       "    </tr>\n",
       "  </tbody>\n",
       "</table>\n",
       "<p>2 rows × 28 columns</p>\n",
       "</div>"
      ],
      "text/plain": [
       "                                               brand  \\\n",
       "0      [{'language_tag': 'nl_NL', 'value': 'find.'}]   \n",
       "1  [{'language_tag': 'es_MX', 'value': 'AmazonBas...   \n",
       "\n",
       "                                        bullet_point  \\\n",
       "0  [{'language_tag': 'nl_NL', 'value': 'Schoen in...   \n",
       "1  [{'language_tag': 'es_MX', 'value': 'White Pow...   \n",
       "\n",
       "                                               color     item_id  \\\n",
       "0  [{'language_tag': 'nl_NL', 'value': 'Veelkleur...  B06X9STHNG   \n",
       "1  [{'language_tag': 'es_MX', 'value': 'White Pow...  B07P8ML82R   \n",
       "\n",
       "                                           item_name  \\\n",
       "0  [{'language_tag': 'nl_NL', 'value': 'Amazon-me...   \n",
       "1  [{'language_tag': 'es_MX', 'value': '22\" Botto...   \n",
       "\n",
       "                                      model_name  \\\n",
       "0  [{'language_tag': 'nl_NL', 'value': '37753'}]   \n",
       "1                                            NaN   \n",
       "\n",
       "                   model_number         model_year             product_type  \\\n",
       "0       [{'value': '12-05-04'}]  [{'value': 2017}]     [{'value': 'SHOES'}]   \n",
       "1  [{'value': 'AB5013-R22-10'}]                NaN  [{'value': 'HARDWARE'}]   \n",
       "\n",
       "                                               style  ...  \\\n",
       "0  [{'language_tag': 'nl_NL', 'value': 'Gesloten-...  ...   \n",
       "1   [{'language_tag': 'es_MX', 'value': '10 pares'}]  ...   \n",
       "\n",
       "                                         item_weight material fabric_type  \\\n",
       "0                                                NaN      NaN         NaN   \n",
       "1  [{'normalized_value': {'unit': 'pounds', 'valu...      NaN         NaN   \n",
       "\n",
       "  color_code product_description spin_id 3dmodel_id pattern finish_type  \\\n",
       "0        NaN                 NaN     NaN        NaN     NaN         NaN   \n",
       "1        NaN                 NaN     NaN        NaN     NaN         NaN   \n",
       "\n",
       "  item_shape  \n",
       "0        NaN  \n",
       "1        NaN  \n",
       "\n",
       "[2 rows x 28 columns]"
      ]
     },
     "execution_count": 5,
     "metadata": {},
     "output_type": "execute_result"
    }
   ],
   "source": [
    "l_meta_data_path = f\"s3://{ABO_BUCKET_NAME}/listings/metadata/listings_0.json.gz\"\n",
    "l_meta = pd.read_json(l_meta_data_path, lines=True)\n",
    "l_meta.head(2)"
   ]
  },
  {
   "cell_type": "code",
   "execution_count": 6,
   "metadata": {},
   "outputs": [
    {
     "data": {
      "text/plain": [
       "Index(['image_id', 'height', 'width', 'path'], dtype='object')"
      ]
     },
     "execution_count": 6,
     "metadata": {},
     "output_type": "execute_result"
    }
   ],
   "source": [
    "i_meta.columns # check columns in image metadata"
   ]
  },
  {
   "cell_type": "code",
   "execution_count": 7,
   "metadata": {},
   "outputs": [
    {
     "data": {
      "text/plain": [
       "Index(['brand', 'bullet_point', 'color', 'item_id', 'item_name', 'model_name',\n",
       "       'model_number', 'model_year', 'product_type', 'style', 'main_image_id',\n",
       "       'other_image_id', 'item_keywords', 'country', 'marketplace',\n",
       "       'domain_name', 'node', 'item_dimensions', 'item_weight', 'material',\n",
       "       'fabric_type', 'color_code', 'product_description', 'spin_id',\n",
       "       '3dmodel_id', 'pattern', 'finish_type', 'item_shape'],\n",
       "      dtype='object')"
      ]
     },
     "execution_count": 7,
     "metadata": {},
     "output_type": "execute_result"
    }
   ],
   "source": [
    "l_meta.columns # check columns in listing metadata"
   ]
  },
  {
   "cell_type": "code",
   "execution_count": 8,
   "metadata": {},
   "outputs": [
    {
     "data": {
      "text/plain": [
       "0       [{'language_tag': 'nl_NL', 'value': 'Amazon-me...\n",
       "1       [{'language_tag': 'es_MX', 'value': '22\" Botto...\n",
       "2       [{'language_tag': 'en_AE', 'value': 'AmazonBas...\n",
       "3       [{'language_tag': 'en_GB', 'value': 'Stone & B...\n",
       "4       [{'language_tag': 'en_AU', 'value': 'The Fix A...\n",
       "                              ...                        \n",
       "9227    [{'language_tag': 'en_IN', 'value': 'Amazon Br...\n",
       "9228    [{'language_tag': 'en_IN', 'value': 'Amazon Br...\n",
       "9229    [{'language_tag': 'it_IT', 'value': 'Marchio A...\n",
       "9230    [{'language_tag': 'en_IN', 'value': 'Amazon Br...\n",
       "9231    [{'language_tag': 'nl_NL', 'value': 'AmazonBas...\n",
       "Name: item_name, Length: 9232, dtype: object"
      ]
     },
     "execution_count": 8,
     "metadata": {},
     "output_type": "execute_result"
    }
   ],
   "source": [
    "l_meta.item_name # get the item_name column"
   ]
  },
  {
   "cell_type": "code",
   "execution_count": 9,
   "metadata": {},
   "outputs": [
    {
     "data": {
      "text/plain": [
       "0       B06X9STHNG\n",
       "1       B07P8ML82R\n",
       "2       B07H9GMYXS\n",
       "3       B07CTPR73M\n",
       "4       B01MTEI8M6\n",
       "           ...    \n",
       "9227    B085698QFP\n",
       "9228    B07T5TF4M2\n",
       "9229    B07PB4VSMY\n",
       "9230    B0857LYNWH\n",
       "9231    B00M92KO9Y\n",
       "Name: item_id, Length: 9232, dtype: object"
      ]
     },
     "execution_count": 9,
     "metadata": {},
     "output_type": "execute_result"
    }
   ],
   "source": [
    "l_meta['item_id'] # get the item_name column"
   ]
  },
  {
   "cell_type": "code",
   "execution_count": 10,
   "metadata": {},
   "outputs": [],
   "source": [
    "def func_in_en_us_(x): # Function to extract the english text from a list of dictionaries\n",
    "    if isinstance(x, list):  # Check if x is a list before iterating\n",
    "        us_texts = [item[\"value\"] for item in x if item[\"language_tag\"] == \"en_US\"]\n",
    "        return us_texts[0] if us_texts else None\n",
    "    else:\n",
    "        return None"
   ]
  },
  {
   "cell_type": "markdown",
   "metadata": {},
   "source": [
    "#### Get the items with English_US text if avialable.."
   ]
  },
  {
   "cell_type": "code",
   "execution_count": 11,
   "metadata": {},
   "outputs": [
    {
     "name": "stdout",
     "output_type": "stream",
     "text": [
      " number products with US English title: 9232\n"
     ]
    },
    {
     "data": {
      "text/html": [
       "<div>\n",
       "<style scoped>\n",
       "    .dataframe tbody tr th:only-of-type {\n",
       "        vertical-align: middle;\n",
       "    }\n",
       "\n",
       "    .dataframe tbody tr th {\n",
       "        vertical-align: top;\n",
       "    }\n",
       "\n",
       "    .dataframe thead th {\n",
       "        text-align: right;\n",
       "    }\n",
       "</style>\n",
       "<table border=\"1\" class=\"dataframe\">\n",
       "  <thead>\n",
       "    <tr style=\"text-align: right;\">\n",
       "      <th></th>\n",
       "      <th>brand</th>\n",
       "      <th>bullet_point</th>\n",
       "      <th>color</th>\n",
       "      <th>item_id</th>\n",
       "      <th>item_name</th>\n",
       "      <th>model_name</th>\n",
       "      <th>model_number</th>\n",
       "      <th>model_year</th>\n",
       "      <th>product_type</th>\n",
       "      <th>style</th>\n",
       "      <th>...</th>\n",
       "      <th>color_in_en_us</th>\n",
       "      <th>fabric_type_in_en_us</th>\n",
       "      <th>finish_type_in_en_us</th>\n",
       "      <th>item_keywords_in_en_us</th>\n",
       "      <th>item_name_in_en_us</th>\n",
       "      <th>item_shape_in_en_us</th>\n",
       "      <th>material_in_en_us</th>\n",
       "      <th>model_name_in_en_us</th>\n",
       "      <th>pattern_in_en_us</th>\n",
       "      <th>product_description_in_en_us</th>\n",
       "    </tr>\n",
       "  </thead>\n",
       "  <tbody>\n",
       "    <tr>\n",
       "      <th>0</th>\n",
       "      <td>[{'language_tag': 'nl_NL', 'value': 'find.'}]</td>\n",
       "      <td>[{'language_tag': 'nl_NL', 'value': 'Schoen in...</td>\n",
       "      <td>[{'language_tag': 'nl_NL', 'value': 'Veelkleur...</td>\n",
       "      <td>B06X9STHNG</td>\n",
       "      <td>[{'language_tag': 'nl_NL', 'value': 'Amazon-me...</td>\n",
       "      <td>[{'language_tag': 'nl_NL', 'value': '37753'}]</td>\n",
       "      <td>[{'value': '12-05-04'}]</td>\n",
       "      <td>[{'value': 2017}]</td>\n",
       "      <td>[{'value': 'SHOES'}]</td>\n",
       "      <td>[{'language_tag': 'nl_NL', 'value': 'Gesloten-...</td>\n",
       "      <td>...</td>\n",
       "      <td>None</td>\n",
       "      <td>None</td>\n",
       "      <td>None</td>\n",
       "      <td>None</td>\n",
       "      <td>None</td>\n",
       "      <td>None</td>\n",
       "      <td>None</td>\n",
       "      <td>None</td>\n",
       "      <td>None</td>\n",
       "      <td>None</td>\n",
       "    </tr>\n",
       "    <tr>\n",
       "      <th>1</th>\n",
       "      <td>[{'language_tag': 'es_MX', 'value': 'AmazonBas...</td>\n",
       "      <td>[{'language_tag': 'es_MX', 'value': 'White Pow...</td>\n",
       "      <td>[{'language_tag': 'es_MX', 'value': 'White Pow...</td>\n",
       "      <td>B07P8ML82R</td>\n",
       "      <td>[{'language_tag': 'es_MX', 'value': '22\" Botto...</td>\n",
       "      <td>NaN</td>\n",
       "      <td>[{'value': 'AB5013-R22-10'}]</td>\n",
       "      <td>NaN</td>\n",
       "      <td>[{'value': 'HARDWARE'}]</td>\n",
       "      <td>[{'language_tag': 'es_MX', 'value': '10 pares'}]</td>\n",
       "      <td>...</td>\n",
       "      <td>None</td>\n",
       "      <td>None</td>\n",
       "      <td>None</td>\n",
       "      <td>None</td>\n",
       "      <td>None</td>\n",
       "      <td>None</td>\n",
       "      <td>None</td>\n",
       "      <td>None</td>\n",
       "      <td>None</td>\n",
       "      <td>None</td>\n",
       "    </tr>\n",
       "  </tbody>\n",
       "</table>\n",
       "<p>2 rows × 40 columns</p>\n",
       "</div>"
      ],
      "text/plain": [
       "                                               brand  \\\n",
       "0      [{'language_tag': 'nl_NL', 'value': 'find.'}]   \n",
       "1  [{'language_tag': 'es_MX', 'value': 'AmazonBas...   \n",
       "\n",
       "                                        bullet_point  \\\n",
       "0  [{'language_tag': 'nl_NL', 'value': 'Schoen in...   \n",
       "1  [{'language_tag': 'es_MX', 'value': 'White Pow...   \n",
       "\n",
       "                                               color     item_id  \\\n",
       "0  [{'language_tag': 'nl_NL', 'value': 'Veelkleur...  B06X9STHNG   \n",
       "1  [{'language_tag': 'es_MX', 'value': 'White Pow...  B07P8ML82R   \n",
       "\n",
       "                                           item_name  \\\n",
       "0  [{'language_tag': 'nl_NL', 'value': 'Amazon-me...   \n",
       "1  [{'language_tag': 'es_MX', 'value': '22\" Botto...   \n",
       "\n",
       "                                      model_name  \\\n",
       "0  [{'language_tag': 'nl_NL', 'value': '37753'}]   \n",
       "1                                            NaN   \n",
       "\n",
       "                   model_number         model_year             product_type  \\\n",
       "0       [{'value': '12-05-04'}]  [{'value': 2017}]     [{'value': 'SHOES'}]   \n",
       "1  [{'value': 'AB5013-R22-10'}]                NaN  [{'value': 'HARDWARE'}]   \n",
       "\n",
       "                                               style  ... color_in_en_us  \\\n",
       "0  [{'language_tag': 'nl_NL', 'value': 'Gesloten-...  ...           None   \n",
       "1   [{'language_tag': 'es_MX', 'value': '10 pares'}]  ...           None   \n",
       "\n",
       "  fabric_type_in_en_us finish_type_in_en_us item_keywords_in_en_us  \\\n",
       "0                 None                 None                   None   \n",
       "1                 None                 None                   None   \n",
       "\n",
       "  item_name_in_en_us item_shape_in_en_us material_in_en_us  \\\n",
       "0               None                None              None   \n",
       "1               None                None              None   \n",
       "\n",
       "  model_name_in_en_us pattern_in_en_us product_description_in_en_us  \n",
       "0                None             None                         None  \n",
       "1                None             None                         None  \n",
       "\n",
       "[2 rows x 40 columns]"
      ]
     },
     "execution_count": 11,
     "metadata": {},
     "output_type": "execute_result"
    }
   ],
   "source": [
    "l_meta = l_meta.assign(brand_in_en_us=l_meta.brand.apply(func_in_en_us_))\n",
    "l_meta = l_meta.assign(bullet_point_in_en_us=l_meta.bullet_point.apply(func_in_en_us_))\n",
    "l_meta = l_meta.assign(color_in_en_us=l_meta.color.apply(func_in_en_us_))\n",
    "l_meta = l_meta.assign(fabric_type_in_en_us=l_meta.fabric_type.apply(func_in_en_us_))\n",
    "l_meta = l_meta.assign(finish_type_in_en_us=l_meta.finish_type.apply(func_in_en_us_))\n",
    "l_meta = l_meta.assign(item_keywords_in_en_us=l_meta.item_keywords.apply(func_in_en_us_))\n",
    "l_meta = l_meta.assign(item_name_in_en_us=l_meta.item_name.apply(func_in_en_us_))\n",
    "l_meta = l_meta.assign(item_shape_in_en_us=l_meta.item_shape.apply(func_in_en_us_))\n",
    "l_meta = l_meta.assign(material_in_en_us=l_meta.material.apply(func_in_en_us_))\n",
    "l_meta = l_meta.assign(model_name_in_en_us=l_meta.model_name.apply(func_in_en_us_))\n",
    "l_meta = l_meta.assign(pattern_in_en_us=l_meta.pattern.apply(func_in_en_us_))\n",
    "l_meta = l_meta.assign(product_description_in_en_us=l_meta.product_description.apply(func_in_en_us_)) \n",
    "\n",
    "print(f\" number products with US English title: {len(l_meta)}\")\n",
    "\n",
    "l_meta.head(2)\n"
   ]
  },
  {
   "cell_type": "code",
   "execution_count": 12,
   "metadata": {},
   "outputs": [],
   "source": [
    "l_meta = l_meta[~l_meta.item_name_in_en_us.isna()] # remove rows with missing item_name_in_en_us"
   ]
  },
  {
   "cell_type": "code",
   "execution_count": 13,
   "metadata": {},
   "outputs": [
    {
     "data": {
      "text/plain": [
       "Index(['brand', 'bullet_point', 'color', 'item_id', 'item_name', 'model_name',\n",
       "       'model_number', 'model_year', 'product_type', 'style', 'main_image_id',\n",
       "       'other_image_id', 'item_keywords', 'country', 'marketplace',\n",
       "       'domain_name', 'node', 'item_dimensions', 'item_weight', 'material',\n",
       "       'fabric_type', 'color_code', 'product_description', 'spin_id',\n",
       "       '3dmodel_id', 'pattern', 'finish_type', 'item_shape', 'brand_in_en_us',\n",
       "       'bullet_point_in_en_us', 'color_in_en_us', 'fabric_type_in_en_us',\n",
       "       'finish_type_in_en_us', 'item_keywords_in_en_us', 'item_name_in_en_us',\n",
       "       'item_shape_in_en_us', 'material_in_en_us', 'model_name_in_en_us',\n",
       "       'pattern_in_en_us', 'product_description_in_en_us'],\n",
       "      dtype='object')"
      ]
     },
     "execution_count": 13,
     "metadata": {},
     "output_type": "execute_result"
    }
   ],
   "source": [
    "l_meta.columns # get the columns of the dataframe including the new columns added with the english text"
   ]
  },
  {
   "cell_type": "markdown",
   "metadata": {},
   "source": [
    "#### Merge the image meta with lising meta to get the path of each image"
   ]
  },
  {
   "cell_type": "code",
   "execution_count": 14,
   "metadata": {},
   "outputs": [],
   "source": [
    "dataset = l_meta.merge(i_meta, left_on=\"main_image_id\", right_on=\"image_id\")"
   ]
  },
  {
   "cell_type": "code",
   "execution_count": 15,
   "metadata": {},
   "outputs": [
    {
     "data": {
      "text/plain": [
       "Index(['brand', 'bullet_point', 'color', 'item_id', 'item_name', 'model_name',\n",
       "       'model_number', 'model_year', 'product_type', 'style', 'main_image_id',\n",
       "       'other_image_id', 'item_keywords', 'country', 'marketplace',\n",
       "       'domain_name', 'node', 'item_dimensions', 'item_weight', 'material',\n",
       "       'fabric_type', 'color_code', 'product_description', 'spin_id',\n",
       "       '3dmodel_id', 'pattern', 'finish_type', 'item_shape', 'brand_in_en_us',\n",
       "       'bullet_point_in_en_us', 'color_in_en_us', 'fabric_type_in_en_us',\n",
       "       'finish_type_in_en_us', 'item_keywords_in_en_us', 'item_name_in_en_us',\n",
       "       'item_shape_in_en_us', 'material_in_en_us', 'model_name_in_en_us',\n",
       "       'pattern_in_en_us', 'product_description_in_en_us', 'image_id',\n",
       "       'height', 'width', 'path'],\n",
       "      dtype='object')"
      ]
     },
     "execution_count": 15,
     "metadata": {},
     "output_type": "execute_result"
    }
   ],
   "source": [
    "dataset.columns # get the columns from the merged dataframe"
   ]
  },
  {
   "cell_type": "markdown",
   "metadata": {},
   "source": [
    "#### Delete some columns which I will not be using "
   ]
  },
  {
   "cell_type": "code",
   "execution_count": 16,
   "metadata": {},
   "outputs": [],
   "source": [
    "dataset = dataset.drop(columns=['brand', 'bullet_point', 'color', 'fabric_type', 'finish_type', 'item_keywords', \n",
    "                              'item_name', 'item_shape', 'material', 'model_name', 'model_number', 'pattern', \n",
    "                              'product_description', 'style', 'node', 'model_year', 'item_dimensions', 'item_weight',\n",
    "                              'image_id', 'main_image_id'])\n"
   ]
  },
  {
   "cell_type": "code",
   "execution_count": 17,
   "metadata": {},
   "outputs": [
    {
     "data": {
      "text/html": [
       "<div>\n",
       "<style scoped>\n",
       "    .dataframe tbody tr th:only-of-type {\n",
       "        vertical-align: middle;\n",
       "    }\n",
       "\n",
       "    .dataframe tbody tr th {\n",
       "        vertical-align: top;\n",
       "    }\n",
       "\n",
       "    .dataframe thead th {\n",
       "        text-align: right;\n",
       "    }\n",
       "</style>\n",
       "<table border=\"1\" class=\"dataframe\">\n",
       "  <thead>\n",
       "    <tr style=\"text-align: right;\">\n",
       "      <th></th>\n",
       "      <th>item_id</th>\n",
       "      <th>product_type</th>\n",
       "      <th>other_image_id</th>\n",
       "      <th>country</th>\n",
       "      <th>marketplace</th>\n",
       "      <th>domain_name</th>\n",
       "      <th>color_code</th>\n",
       "      <th>spin_id</th>\n",
       "      <th>3dmodel_id</th>\n",
       "      <th>brand_in_en_us</th>\n",
       "      <th>...</th>\n",
       "      <th>item_keywords_in_en_us</th>\n",
       "      <th>item_name_in_en_us</th>\n",
       "      <th>item_shape_in_en_us</th>\n",
       "      <th>material_in_en_us</th>\n",
       "      <th>model_name_in_en_us</th>\n",
       "      <th>pattern_in_en_us</th>\n",
       "      <th>product_description_in_en_us</th>\n",
       "      <th>height</th>\n",
       "      <th>width</th>\n",
       "      <th>path</th>\n",
       "    </tr>\n",
       "  </thead>\n",
       "  <tbody>\n",
       "    <tr>\n",
       "      <th>0</th>\n",
       "      <td>B0896LJNLH</td>\n",
       "      <td>[{'value': 'DRINKING_CUP'}]</td>\n",
       "      <td>[717gxIR99XL, 51fzW5BNdVL, 21xD1NzxObL]</td>\n",
       "      <td>US</td>\n",
       "      <td>Amazon</td>\n",
       "      <td>amazon.com</td>\n",
       "      <td>NaN</td>\n",
       "      <td>NaN</td>\n",
       "      <td>NaN</td>\n",
       "      <td>AmazonBasics</td>\n",
       "      <td>...</td>\n",
       "      <td>crystal</td>\n",
       "      <td>AmazonBasics Serene 16-Piece Old Fashioned and...</td>\n",
       "      <td>None</td>\n",
       "      <td>None</td>\n",
       "      <td>None</td>\n",
       "      <td>None</td>\n",
       "      <td>None</td>\n",
       "      <td>1197</td>\n",
       "      <td>894</td>\n",
       "      <td>07/075e5d67.jpg</td>\n",
       "    </tr>\n",
       "    <tr>\n",
       "      <th>1</th>\n",
       "      <td>B07HCR1LSQ</td>\n",
       "      <td>[{'value': 'EARRING'}]</td>\n",
       "      <td>NaN</td>\n",
       "      <td>JP</td>\n",
       "      <td>Amazon</td>\n",
       "      <td>amazon.co.jp</td>\n",
       "      <td>NaN</td>\n",
       "      <td>NaN</td>\n",
       "      <td>NaN</td>\n",
       "      <td>None</td>\n",
       "      <td>...</td>\n",
       "      <td>None</td>\n",
       "      <td>[Find] Amazon Collection Platinum Plated Sterl...</td>\n",
       "      <td>None</td>\n",
       "      <td>None</td>\n",
       "      <td>None</td>\n",
       "      <td>None</td>\n",
       "      <td>None</td>\n",
       "      <td>1000</td>\n",
       "      <td>1000</td>\n",
       "      <td>c9/c923418f.jpg</td>\n",
       "    </tr>\n",
       "  </tbody>\n",
       "</table>\n",
       "<p>2 rows × 24 columns</p>\n",
       "</div>"
      ],
      "text/plain": [
       "      item_id                 product_type  \\\n",
       "0  B0896LJNLH  [{'value': 'DRINKING_CUP'}]   \n",
       "1  B07HCR1LSQ       [{'value': 'EARRING'}]   \n",
       "\n",
       "                            other_image_id country marketplace   domain_name  \\\n",
       "0  [717gxIR99XL, 51fzW5BNdVL, 21xD1NzxObL]      US      Amazon    amazon.com   \n",
       "1                                      NaN      JP      Amazon  amazon.co.jp   \n",
       "\n",
       "  color_code spin_id 3dmodel_id brand_in_en_us  ... item_keywords_in_en_us  \\\n",
       "0        NaN     NaN        NaN   AmazonBasics  ...                crystal   \n",
       "1        NaN     NaN        NaN           None  ...                   None   \n",
       "\n",
       "                                  item_name_in_en_us item_shape_in_en_us  \\\n",
       "0  AmazonBasics Serene 16-Piece Old Fashioned and...                None   \n",
       "1  [Find] Amazon Collection Platinum Plated Sterl...                None   \n",
       "\n",
       "  material_in_en_us model_name_in_en_us pattern_in_en_us  \\\n",
       "0              None                None             None   \n",
       "1              None                None             None   \n",
       "\n",
       "  product_description_in_en_us height width             path  \n",
       "0                         None   1197   894  07/075e5d67.jpg  \n",
       "1                         None   1000  1000  c9/c923418f.jpg  \n",
       "\n",
       "[2 rows x 24 columns]"
      ]
     },
     "execution_count": 17,
     "metadata": {},
     "output_type": "execute_result"
    }
   ],
   "source": [
    "dataset.head(2)"
   ]
  },
  {
   "cell_type": "code",
   "execution_count": 18,
   "metadata": {},
   "outputs": [
    {
     "data": {
      "text/plain": [
       "Index(['item_id', 'product_type', 'other_image_id', 'country', 'marketplace',\n",
       "       'domain_name', 'color_code', 'spin_id', '3dmodel_id', 'brand_in_en_us',\n",
       "       'bullet_point_in_en_us', 'color_in_en_us', 'fabric_type_in_en_us',\n",
       "       'finish_type_in_en_us', 'item_keywords_in_en_us', 'item_name_in_en_us',\n",
       "       'item_shape_in_en_us', 'material_in_en_us', 'model_name_in_en_us',\n",
       "       'pattern_in_en_us', 'product_description_in_en_us', 'height', 'width',\n",
       "       'path'],\n",
       "      dtype='object')"
      ]
     },
     "execution_count": 18,
     "metadata": {},
     "output_type": "execute_result"
    }
   ],
   "source": [
    "dataset.columns # get the columns from the merged dataframe after dropping the columns"
   ]
  },
  {
   "cell_type": "markdown",
   "metadata": {},
   "source": [
    "#### Lets get the image path for other_image_id"
   ]
  },
  {
   "cell_type": "code",
   "execution_count": 19,
   "metadata": {},
   "outputs": [
    {
     "data": {
      "text/html": [
       "<div>\n",
       "<style scoped>\n",
       "    .dataframe tbody tr th:only-of-type {\n",
       "        vertical-align: middle;\n",
       "    }\n",
       "\n",
       "    .dataframe tbody tr th {\n",
       "        vertical-align: top;\n",
       "    }\n",
       "\n",
       "    .dataframe thead th {\n",
       "        text-align: right;\n",
       "    }\n",
       "</style>\n",
       "<table border=\"1\" class=\"dataframe\">\n",
       "  <thead>\n",
       "    <tr style=\"text-align: right;\">\n",
       "      <th></th>\n",
       "      <th>item_id</th>\n",
       "      <th>item_name_in_en_us</th>\n",
       "      <th>path</th>\n",
       "      <th>other_image_id</th>\n",
       "    </tr>\n",
       "  </thead>\n",
       "  <tbody>\n",
       "    <tr>\n",
       "      <th>0</th>\n",
       "      <td>B0896LJNLH</td>\n",
       "      <td>AmazonBasics Serene 16-Piece Old Fashioned and...</td>\n",
       "      <td>07/075e5d67.jpg</td>\n",
       "      <td>[717gxIR99XL, 51fzW5BNdVL, 21xD1NzxObL]</td>\n",
       "    </tr>\n",
       "    <tr>\n",
       "      <th>1</th>\n",
       "      <td>B07HCR1LSQ</td>\n",
       "      <td>[Find] Amazon Collection Platinum Plated Sterl...</td>\n",
       "      <td>c9/c923418f.jpg</td>\n",
       "      <td>NaN</td>\n",
       "    </tr>\n",
       "    <tr>\n",
       "      <th>2</th>\n",
       "      <td>B075DQBBJZ</td>\n",
       "      <td>Arizona Desert Sand Horizon Photo with Wood Ha...</td>\n",
       "      <td>c6/c6889ed4.jpg</td>\n",
       "      <td>[91i0jTWScLL, 81GjBMtcfBL, 81rgshp4g4L]</td>\n",
       "    </tr>\n",
       "    <tr>\n",
       "      <th>3</th>\n",
       "      <td>B07S74D9T7</td>\n",
       "      <td>AmazonBasics Adjustable Speaker Stand - 3.8 to...</td>\n",
       "      <td>2b/2b90e918.jpg</td>\n",
       "      <td>[81fMrhXWHfL, 71gfY+SVZKL, 81FCuhRc-rL, 713pBn...</td>\n",
       "    </tr>\n",
       "    <tr>\n",
       "      <th>4</th>\n",
       "      <td>B01N27SMXC</td>\n",
       "      <td>Amazon Brand - The Fix Women's Foley Tassel Sl...</td>\n",
       "      <td>2c/2c0416de.jpg</td>\n",
       "      <td>[71kNNwo3PfL, 716vL8cWNNL, 61EmUPl6s3L, 71oreW...</td>\n",
       "    </tr>\n",
       "  </tbody>\n",
       "</table>\n",
       "</div>"
      ],
      "text/plain": [
       "      item_id                                 item_name_in_en_us  \\\n",
       "0  B0896LJNLH  AmazonBasics Serene 16-Piece Old Fashioned and...   \n",
       "1  B07HCR1LSQ  [Find] Amazon Collection Platinum Plated Sterl...   \n",
       "2  B075DQBBJZ  Arizona Desert Sand Horizon Photo with Wood Ha...   \n",
       "3  B07S74D9T7  AmazonBasics Adjustable Speaker Stand - 3.8 to...   \n",
       "4  B01N27SMXC  Amazon Brand - The Fix Women's Foley Tassel Sl...   \n",
       "\n",
       "              path                                     other_image_id  \n",
       "0  07/075e5d67.jpg            [717gxIR99XL, 51fzW5BNdVL, 21xD1NzxObL]  \n",
       "1  c9/c923418f.jpg                                                NaN  \n",
       "2  c6/c6889ed4.jpg            [91i0jTWScLL, 81GjBMtcfBL, 81rgshp4g4L]  \n",
       "3  2b/2b90e918.jpg  [81fMrhXWHfL, 71gfY+SVZKL, 81FCuhRc-rL, 713pBn...  \n",
       "4  2c/2c0416de.jpg  [71kNNwo3PfL, 716vL8cWNNL, 61EmUPl6s3L, 71oreW...  "
      ]
     },
     "execution_count": 19,
     "metadata": {},
     "output_type": "execute_result"
    }
   ],
   "source": [
    "dataset[['item_id', 'item_name_in_en_us', 'path', 'other_image_id']][0:5]"
   ]
  },
  {
   "cell_type": "markdown",
   "metadata": {},
   "source": [
    "#### Create a function to get the path for other image ids"
   ]
  },
  {
   "cell_type": "code",
   "execution_count": 20,
   "metadata": {},
   "outputs": [],
   "source": [
    "def func_image_path_(image_ids):\n",
    "    if isinstance(image_ids, list):\n",
    "        image_paths = [i_meta[i_meta[\"image_id\"] == image_id][\"path\"].to_list()[0] for image_id in image_ids]\n",
    "        return image_paths if image_paths else None\n",
    "    else:\n",
    "        return None  "
   ]
  },
  {
   "cell_type": "markdown",
   "metadata": {},
   "source": [
    "#### Get image path"
   ]
  },
  {
   "cell_type": "code",
   "execution_count": 21,
   "metadata": {},
   "outputs": [],
   "source": [
    "dataset = dataset.assign(other_image_id_path=dataset.other_image_id.apply(func_image_path_)) "
   ]
  },
  {
   "cell_type": "markdown",
   "metadata": {},
   "source": [
    "#### Now we have the path for other_image_id as well"
   ]
  },
  {
   "cell_type": "code",
   "execution_count": 22,
   "metadata": {},
   "outputs": [
    {
     "data": {
      "text/html": [
       "<div>\n",
       "<style scoped>\n",
       "    .dataframe tbody tr th:only-of-type {\n",
       "        vertical-align: middle;\n",
       "    }\n",
       "\n",
       "    .dataframe tbody tr th {\n",
       "        vertical-align: top;\n",
       "    }\n",
       "\n",
       "    .dataframe thead th {\n",
       "        text-align: right;\n",
       "    }\n",
       "</style>\n",
       "<table border=\"1\" class=\"dataframe\">\n",
       "  <thead>\n",
       "    <tr style=\"text-align: right;\">\n",
       "      <th></th>\n",
       "      <th>item_id</th>\n",
       "      <th>item_name_in_en_us</th>\n",
       "      <th>path</th>\n",
       "      <th>other_image_id</th>\n",
       "      <th>other_image_id_path</th>\n",
       "    </tr>\n",
       "  </thead>\n",
       "  <tbody>\n",
       "    <tr>\n",
       "      <th>0</th>\n",
       "      <td>B0896LJNLH</td>\n",
       "      <td>AmazonBasics Serene 16-Piece Old Fashioned and...</td>\n",
       "      <td>07/075e5d67.jpg</td>\n",
       "      <td>[717gxIR99XL, 51fzW5BNdVL, 21xD1NzxObL]</td>\n",
       "      <td>[f2/f24e42d9.jpg, 2d/2da4a5ac.jpg, ed/ed444f23...</td>\n",
       "    </tr>\n",
       "    <tr>\n",
       "      <th>1</th>\n",
       "      <td>B07HCR1LSQ</td>\n",
       "      <td>[Find] Amazon Collection Platinum Plated Sterl...</td>\n",
       "      <td>c9/c923418f.jpg</td>\n",
       "      <td>NaN</td>\n",
       "      <td>None</td>\n",
       "    </tr>\n",
       "    <tr>\n",
       "      <th>2</th>\n",
       "      <td>B075DQBBJZ</td>\n",
       "      <td>Arizona Desert Sand Horizon Photo with Wood Ha...</td>\n",
       "      <td>c6/c6889ed4.jpg</td>\n",
       "      <td>[91i0jTWScLL, 81GjBMtcfBL, 81rgshp4g4L]</td>\n",
       "      <td>[43/4378ccb0.jpg, df/df6ea91e.jpg, 88/88675b16...</td>\n",
       "    </tr>\n",
       "    <tr>\n",
       "      <th>3</th>\n",
       "      <td>B07S74D9T7</td>\n",
       "      <td>AmazonBasics Adjustable Speaker Stand - 3.8 to...</td>\n",
       "      <td>2b/2b90e918.jpg</td>\n",
       "      <td>[81fMrhXWHfL, 71gfY+SVZKL, 81FCuhRc-rL, 713pBn...</td>\n",
       "      <td>[68/682a2a63.jpg, 69/69eb06dc.jpg, 91/9190b49c...</td>\n",
       "    </tr>\n",
       "    <tr>\n",
       "      <th>4</th>\n",
       "      <td>B01N27SMXC</td>\n",
       "      <td>Amazon Brand - The Fix Women's Foley Tassel Sl...</td>\n",
       "      <td>2c/2c0416de.jpg</td>\n",
       "      <td>[71kNNwo3PfL, 716vL8cWNNL, 61EmUPl6s3L, 71oreW...</td>\n",
       "      <td>[7f/7fe4036c.jpg, ec/ecb157f8.jpg, 10/106f6086...</td>\n",
       "    </tr>\n",
       "  </tbody>\n",
       "</table>\n",
       "</div>"
      ],
      "text/plain": [
       "      item_id                                 item_name_in_en_us  \\\n",
       "0  B0896LJNLH  AmazonBasics Serene 16-Piece Old Fashioned and...   \n",
       "1  B07HCR1LSQ  [Find] Amazon Collection Platinum Plated Sterl...   \n",
       "2  B075DQBBJZ  Arizona Desert Sand Horizon Photo with Wood Ha...   \n",
       "3  B07S74D9T7  AmazonBasics Adjustable Speaker Stand - 3.8 to...   \n",
       "4  B01N27SMXC  Amazon Brand - The Fix Women's Foley Tassel Sl...   \n",
       "\n",
       "              path                                     other_image_id  \\\n",
       "0  07/075e5d67.jpg            [717gxIR99XL, 51fzW5BNdVL, 21xD1NzxObL]   \n",
       "1  c9/c923418f.jpg                                                NaN   \n",
       "2  c6/c6889ed4.jpg            [91i0jTWScLL, 81GjBMtcfBL, 81rgshp4g4L]   \n",
       "3  2b/2b90e918.jpg  [81fMrhXWHfL, 71gfY+SVZKL, 81FCuhRc-rL, 713pBn...   \n",
       "4  2c/2c0416de.jpg  [71kNNwo3PfL, 716vL8cWNNL, 61EmUPl6s3L, 71oreW...   \n",
       "\n",
       "                                 other_image_id_path  \n",
       "0  [f2/f24e42d9.jpg, 2d/2da4a5ac.jpg, ed/ed444f23...  \n",
       "1                                               None  \n",
       "2  [43/4378ccb0.jpg, df/df6ea91e.jpg, 88/88675b16...  \n",
       "3  [68/682a2a63.jpg, 69/69eb06dc.jpg, 91/9190b49c...  \n",
       "4  [7f/7fe4036c.jpg, ec/ecb157f8.jpg, 10/106f6086...  "
      ]
     },
     "execution_count": 22,
     "metadata": {},
     "output_type": "execute_result"
    }
   ],
   "source": [
    "dataset[['item_id', 'item_name_in_en_us', 'path', 'other_image_id', 'other_image_id_path']][0:5]"
   ]
  },
  {
   "cell_type": "markdown",
   "metadata": {},
   "source": [
    "#### There are two numeric columns in the dataset (checking the distribution of the values)"
   ]
  },
  {
   "cell_type": "code",
   "execution_count": 23,
   "metadata": {},
   "outputs": [
    {
     "data": {
      "text/html": [
       "<div>\n",
       "<style scoped>\n",
       "    .dataframe tbody tr th:only-of-type {\n",
       "        vertical-align: middle;\n",
       "    }\n",
       "\n",
       "    .dataframe tbody tr th {\n",
       "        vertical-align: top;\n",
       "    }\n",
       "\n",
       "    .dataframe thead th {\n",
       "        text-align: right;\n",
       "    }\n",
       "</style>\n",
       "<table border=\"1\" class=\"dataframe\">\n",
       "  <thead>\n",
       "    <tr style=\"text-align: right;\">\n",
       "      <th></th>\n",
       "      <th>height</th>\n",
       "      <th>width</th>\n",
       "    </tr>\n",
       "  </thead>\n",
       "  <tbody>\n",
       "    <tr>\n",
       "      <th>count</th>\n",
       "      <td>1649.000000</td>\n",
       "      <td>1649.000000</td>\n",
       "    </tr>\n",
       "    <tr>\n",
       "      <th>mean</th>\n",
       "      <td>1883.850212</td>\n",
       "      <td>1784.369921</td>\n",
       "    </tr>\n",
       "    <tr>\n",
       "      <th>std</th>\n",
       "      <td>730.090587</td>\n",
       "      <td>701.741091</td>\n",
       "    </tr>\n",
       "    <tr>\n",
       "      <th>min</th>\n",
       "      <td>159.000000</td>\n",
       "      <td>251.000000</td>\n",
       "    </tr>\n",
       "    <tr>\n",
       "      <th>25%</th>\n",
       "      <td>1066.000000</td>\n",
       "      <td>1193.000000</td>\n",
       "    </tr>\n",
       "    <tr>\n",
       "      <th>50%</th>\n",
       "      <td>2120.000000</td>\n",
       "      <td>1809.000000</td>\n",
       "    </tr>\n",
       "    <tr>\n",
       "      <th>75%</th>\n",
       "      <td>2560.000000</td>\n",
       "      <td>2560.000000</td>\n",
       "    </tr>\n",
       "    <tr>\n",
       "      <th>max</th>\n",
       "      <td>2560.000000</td>\n",
       "      <td>2560.000000</td>\n",
       "    </tr>\n",
       "  </tbody>\n",
       "</table>\n",
       "</div>"
      ],
      "text/plain": [
       "            height        width\n",
       "count  1649.000000  1649.000000\n",
       "mean   1883.850212  1784.369921\n",
       "std     730.090587   701.741091\n",
       "min     159.000000   251.000000\n",
       "25%    1066.000000  1193.000000\n",
       "50%    2120.000000  1809.000000\n",
       "75%    2560.000000  2560.000000\n",
       "max    2560.000000  2560.000000"
      ]
     },
     "execution_count": 23,
     "metadata": {},
     "output_type": "execute_result"
    }
   ],
   "source": [
    "dataset.describe()"
   ]
  },
  {
   "cell_type": "code",
   "execution_count": 24,
   "metadata": {},
   "outputs": [
    {
     "data": {
      "image/png": "[encoded data removed]",
      "text/plain": [
       "<Figure size 640x480 with 1 Axes>"
      ]
     },
     "metadata": {},
     "output_type": "display_data"
    }
   ],
   "source": [
    "plt.hist(dataset['height'], bins=20, alpha=0.5, color='b', label='price')\n",
    "plt.show()"
   ]
  },
  {
   "cell_type": "code",
   "execution_count": 25,
   "metadata": {},
   "outputs": [
    {
     "data": {
      "image/png": "[encoded data removed]",
      "text/plain": [
       "<Figure size 640x480 with 1 Axes>"
      ]
     },
     "metadata": {},
     "output_type": "display_data"
    }
   ],
   "source": [
    "plt.hist(dataset['width'], bins=20, alpha=0.5, color='b', label='price')\n",
    "plt.show()"
   ]
  },
  {
   "cell_type": "markdown",
   "metadata": {},
   "source": [
    "[Most of the images are high resolution pixel 2500 X 2500]"
   ]
  },
  {
   "cell_type": "markdown",
   "metadata": {},
   "source": [
    "#### Check the product country "
   ]
  },
  {
   "cell_type": "code",
   "execution_count": 26,
   "metadata": {},
   "outputs": [
    {
     "data": {
      "image/png": "[encoded data removed]",
      "text/plain": [
       "<Figure size 640x480 with 1 Axes>"
      ]
     },
     "metadata": {},
     "output_type": "display_data"
    }
   ],
   "source": [
    "plt.hist(dataset['country'])\n",
    "plt.show()"
   ]
  },
  {
   "cell_type": "markdown",
   "metadata": {},
   "source": [
    "[Most of the products are US but few from Japan]"
   ]
  },
  {
   "cell_type": "markdown",
   "metadata": {},
   "source": [
    "#### Lets create a JSON file with these data"
   ]
  },
  {
   "cell_type": "code",
   "execution_count": 27,
   "metadata": {},
   "outputs": [
    {
     "name": "stdout",
     "output_type": "stream",
     "text": [
      "[{\"item_id\":\"B0896LJNLH\",\"product_type\":[{\"value\":\"DRINKING_CUP\"}],\"other_image_id\":[\"717gxIR99XL\",\"51fzW5BNdVL\",\"21xD1NzxObL\"],\"country\":\"US\",\"marketplace\":\"Amazon\",\"domain_name\":\"amazon.com\",\"color_code\":null,\"spin_id\":null,\"3dmodel_id\":null,\"brand_in_en_us\":\"AmazonBasics\",\"bullet_point_in_en_us\":\"Lead-free glass: made of crystal-clear, lead-free glass for stunning clarity; keeps its shine through many washings; beautifully showcases beverages and adds a touch of glamour to any gathering\",\"color_in_en_us\":\"Clear\",\"fabric_type_in_en_us\":null,\"finish_type_in_en_us\":null,\"item_keywords_in_en_us\":\"crystal\",\"item_name_in_en_us\":\"AmazonBasics Serene 16-Piece Old Fashioned and Coolers Glass Drinkware Set\",\"item_shape_in_en_us\":null,\"material_in_en_us\":null,\"model_name_in_en_us\":null,\"pattern_in_en_us\":null,\"product_description_in_en_us\":null,\"height\":1197,\"width\":894,\"path\":\"07\\/075e5d67.jpg\",\"other_image_id_path\":[\"f2\\/f24e42d9.jpg\",\"2d\\/2da4a5ac.jpg\",\"ed\\/ed444f23.jpg\"]}]\n"
     ]
    }
   ],
   "source": [
    "dataset_json = dataset[0:1].to_json(orient=\"records\")\n",
    "print(dataset_json)"
   ]
  },
  {
   "cell_type": "markdown",
   "metadata": {},
   "source": [
    "#### Save the json dataset in S3"
   ]
  },
  {
   "cell_type": "code",
   "execution_count": 28,
   "metadata": {},
   "outputs": [],
   "source": [
    "json_path = f\"s3://{YOUR_S3_BUCKET_NAME}/{EDA_FOLDER_NAME}/dataset.json\"\n",
    "dataset.to_json(json_path, orient='records')"
   ]
  }
 ],
 "metadata": {
  "kernelspec": {
   "display_name": "caps",
   "language": "python",
   "name": "python3"
  },
  "language_info": {
   "codemirror_mode": {
    "name": "ipython",
    "version": 3
   },
   "file_extension": ".py",
   "mimetype": "text/x-python",
   "name": "python",
   "nbconvert_exporter": "python",
   "pygments_lexer": "ipython3",
   "version": "3.9.6"
  }
 },
 "nbformat": 4,
 "nbformat_minor": 2
}

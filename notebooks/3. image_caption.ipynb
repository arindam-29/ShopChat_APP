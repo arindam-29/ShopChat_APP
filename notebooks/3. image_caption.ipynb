{
 "cells": [
  {
   "cell_type": "markdown",
   "metadata": {},
   "source": [
    "Your Full Name: \n",
    "    \n",
    "`Arindam Choudhury`\n",
    "\n",
    "    Nutan Mandale\n",
    "    \n",
    "    Humberto Gonzalez Granda\n",
    "\n",
    "Your Uplevel Email Address:\n",
    "    \n",
    "    arindam.choudhury.email@gmail.com\n",
    "    \n",
    "    nutan.mandale@gmail.com\n",
    "    \n",
    "    HumbertoGonzalezGranda@gmail.com\n",
    "\n",
    "Name of the Problem Statement of Submission:\n",
    "    \n",
    "    ShopTalk (Project-6)"
   ]
  },
  {
   "cell_type": "code",
   "execution_count": 22,
   "metadata": {},
   "outputs": [],
   "source": [
    "import os\n",
    "import requests\n",
    "from PIL import Image, UnidentifiedImageError\n",
    "import pandas as pd\n",
    "import matplotlib.pyplot as plt\n",
    "from io import BytesIO\n",
    "from transformers import BlipProcessor, BlipForConditionalGeneration\n",
    "import warnings\n",
    "warnings.filterwarnings('ignore')"
   ]
  },
  {
   "cell_type": "code",
   "execution_count": 3,
   "metadata": {},
   "outputs": [
    {
     "data": {
      "text/plain": [
       "True"
      ]
     },
     "execution_count": 3,
     "metadata": {},
     "output_type": "execute_result"
    }
   ],
   "source": [
    "from dotenv import load_dotenv\n",
    "load_dotenv()"
   ]
  },
  {
   "cell_type": "markdown",
   "metadata": {},
   "source": [
    "#### S3 Bucket and File name"
   ]
  },
  {
   "cell_type": "code",
   "execution_count": 23,
   "metadata": {},
   "outputs": [],
   "source": [
    "load_dotenv()\n",
    "ABO_BUCKET_NAME:      str = os.getenv(\"ABO_BUCKET_NAME\")\n",
    "YOUR_S3_BUCKET_NAME:  str = os.getenv(\"YOUR_S3_BUCKET_NAME\")\n",
    "ARTIFACTS_FOLDER:     str = os.getenv(\"ARTIFACTS_FOLDER\")\n",
    "EDA_FOLDER_NAME:      str = os.getenv(\"EDA_FOLDER_NAME\")\n",
    "\n",
    "image_folder_path = f\"s3://{ABO_BUCKET_NAME}/abo-images-small/images/small/\"\n",
    "image_url_path    = f\"https://{ABO_BUCKET_NAME}.s3.amazonaws.com/images/small/\""
   ]
  },
  {
   "cell_type": "markdown",
   "metadata": {},
   "source": [
    "#### Read dataset.json from S3"
   ]
  },
  {
   "cell_type": "code",
   "execution_count": 5,
   "metadata": {},
   "outputs": [],
   "source": [
    "json_path = f\"s3://{YOUR_S3_BUCKET_NAME}/{EDA_FOLDER_NAME}/dataset.json\"\n",
    "dataset = pd.read_json(json_path)"
   ]
  },
  {
   "cell_type": "markdown",
   "metadata": {},
   "source": [
    "#### Lets take 5 rows from the \"dataset\" for caption"
   ]
  },
  {
   "cell_type": "code",
   "execution_count": 6,
   "metadata": {},
   "outputs": [],
   "source": [
    "dataset = dataset[0:5]"
   ]
  },
  {
   "cell_type": "markdown",
   "metadata": {},
   "source": [
    "#### Add BLIP model and processor"
   ]
  },
  {
   "cell_type": "code",
   "execution_count": 7,
   "metadata": {},
   "outputs": [],
   "source": [
    "processor = BlipProcessor.from_pretrained(\"Salesforce/blip-image-captioning-large\")\n",
    "model = BlipForConditionalGeneration.from_pretrained(\"Salesforce/blip-image-captioning-large\")"
   ]
  },
  {
   "cell_type": "markdown",
   "metadata": {},
   "source": [
    "#### Function to get caption "
   ]
  },
  {
   "cell_type": "code",
   "execution_count": 8,
   "metadata": {},
   "outputs": [],
   "source": [
    "def generate_caption_blip(raw_image):\n",
    "    inputs = processor(raw_image, return_tensors=\"pt\")\n",
    "    out = model.generate(**inputs)\n",
    "    return (processor.decode(out[0], skip_special_tokens=True))"
   ]
  },
  {
   "cell_type": "markdown",
   "metadata": {},
   "source": [
    "#### Funtion to create image url"
   ]
  },
  {
   "cell_type": "code",
   "execution_count": 9,
   "metadata": {},
   "outputs": [],
   "source": [
    "def func_generate_(x):\n",
    "    if x:\n",
    "        try: \n",
    "            url: str = f\"https://amazon-berkeley-objects.s3.amazonaws.com/images/small/{x}\"\n",
    "            raw_image = Image.open(requests.get(url, stream=True).raw).convert('RGB')\n",
    "            return generate_caption_blip(raw_image)\n",
    "        except UnidentifiedImageError:\n",
    "            return None\n",
    "    else:\n",
    "        return None"
   ]
  },
  {
   "cell_type": "markdown",
   "metadata": {},
   "source": [
    "#### Get caption and add it back to the dataset in new column \"image_caption\""
   ]
  },
  {
   "cell_type": "code",
   "execution_count": 10,
   "metadata": {},
   "outputs": [],
   "source": [
    "dataset = dataset.assign(image_caption=dataset.path.apply(func_generate_))"
   ]
  },
  {
   "cell_type": "code",
   "execution_count": 16,
   "metadata": {},
   "outputs": [
    {
     "data": {
      "text/plain": [
       "Index(['item_id', 'product_type', 'other_image_id', 'country', 'marketplace',\n",
       "       'domain_name', 'color_code', 'spin_id', '3dmodel_id', 'brand_in_en_us',\n",
       "       'bullet_point_in_en_us', 'color_in_en_us', 'fabric_type_in_en_us',\n",
       "       'finish_type_in_en_us', 'item_keywords_in_en_us', 'item_name_in_en_us',\n",
       "       'item_shape_in_en_us', 'material_in_en_us', 'model_name_in_en_us',\n",
       "       'pattern_in_en_us', 'product_description_in_en_us', 'height', 'width',\n",
       "       'path', 'other_image_id_path', 'image_caption'],\n",
       "      dtype='object')"
      ]
     },
     "execution_count": 16,
     "metadata": {},
     "output_type": "execute_result"
    }
   ],
   "source": [
    "dataset.columns # image_caption column is added"
   ]
  },
  {
   "cell_type": "markdown",
   "metadata": {},
   "source": [
    "##### Few sample captions"
   ]
  },
  {
   "cell_type": "code",
   "execution_count": 17,
   "metadata": {},
   "outputs": [
    {
     "data": {
      "text/html": [
       "<div>\n",
       "<style scoped>\n",
       "    .dataframe tbody tr th:only-of-type {\n",
       "        vertical-align: middle;\n",
       "    }\n",
       "\n",
       "    .dataframe tbody tr th {\n",
       "        vertical-align: top;\n",
       "    }\n",
       "\n",
       "    .dataframe thead th {\n",
       "        text-align: right;\n",
       "    }\n",
       "</style>\n",
       "<table border=\"1\" class=\"dataframe\">\n",
       "  <thead>\n",
       "    <tr style=\"text-align: right;\">\n",
       "      <th></th>\n",
       "      <th>item_id</th>\n",
       "      <th>item_name_in_en_us</th>\n",
       "      <th>image_caption</th>\n",
       "    </tr>\n",
       "  </thead>\n",
       "  <tbody>\n",
       "    <tr>\n",
       "      <th>0</th>\n",
       "      <td>B0896LJNLH</td>\n",
       "      <td>AmazonBasics Serene 16-Piece Old Fashioned and...</td>\n",
       "      <td>a close up of a glass of water on a white back...</td>\n",
       "    </tr>\n",
       "    <tr>\n",
       "      <th>1</th>\n",
       "      <td>B07HCR1LSQ</td>\n",
       "      <td>[Find] Amazon Collection Platinum Plated Sterl...</td>\n",
       "      <td>a pair of earrings with a square cut diamond a...</td>\n",
       "    </tr>\n",
       "    <tr>\n",
       "      <th>2</th>\n",
       "      <td>B075DQBBJZ</td>\n",
       "      <td>Arizona Desert Sand Horizon Photo with Wood Ha...</td>\n",
       "      <td>a white and brown photograph of a desert lands...</td>\n",
       "    </tr>\n",
       "    <tr>\n",
       "      <th>3</th>\n",
       "      <td>B07S74D9T7</td>\n",
       "      <td>AmazonBasics Adjustable Speaker Stand - 3.8 to...</td>\n",
       "      <td>a black tripod speaker stands on a white backg...</td>\n",
       "    </tr>\n",
       "    <tr>\n",
       "      <th>4</th>\n",
       "      <td>B01N27SMXC</td>\n",
       "      <td>Amazon Brand - The Fix Women's Foley Tassel Sl...</td>\n",
       "      <td>a close up of a pair of sandals with a metal b...</td>\n",
       "    </tr>\n",
       "  </tbody>\n",
       "</table>\n",
       "</div>"
      ],
      "text/plain": [
       "      item_id                                 item_name_in_en_us  \\\n",
       "0  B0896LJNLH  AmazonBasics Serene 16-Piece Old Fashioned and...   \n",
       "1  B07HCR1LSQ  [Find] Amazon Collection Platinum Plated Sterl...   \n",
       "2  B075DQBBJZ  Arizona Desert Sand Horizon Photo with Wood Ha...   \n",
       "3  B07S74D9T7  AmazonBasics Adjustable Speaker Stand - 3.8 to...   \n",
       "4  B01N27SMXC  Amazon Brand - The Fix Women's Foley Tassel Sl...   \n",
       "\n",
       "                                       image_caption  \n",
       "0  a close up of a glass of water on a white back...  \n",
       "1  a pair of earrings with a square cut diamond a...  \n",
       "2  a white and brown photograph of a desert lands...  \n",
       "3  a black tripod speaker stands on a white backg...  \n",
       "4  a close up of a pair of sandals with a metal b...  "
      ]
     },
     "execution_count": 17,
     "metadata": {},
     "output_type": "execute_result"
    }
   ],
   "source": [
    "dataset[[\"item_id\", \"item_name_in_en_us\", \"image_caption\"]] # only the columns of interest"
   ]
  },
  {
   "cell_type": "markdown",
   "metadata": {},
   "source": [
    "#### Create a function to display the image from item number"
   ]
  },
  {
   "cell_type": "code",
   "execution_count": 26,
   "metadata": {},
   "outputs": [],
   "source": [
    "def display_image_with_item(item_id):\n",
    "    path = dataset[dataset[\"item_id\"] == item_id][\"path\"].to_list()[0]\n",
    "    url = image_url_path + path\n",
    "    response = requests.get(url)\n",
    "    image_pil = Image.open(BytesIO(response.content)).convert('RGB')\n",
    "    return image_pil"
   ]
  },
  {
   "cell_type": "code",
   "execution_count": 33,
   "metadata": {},
   "outputs": [
    {
     "name": "stdout",
     "output_type": "stream",
     "text": [
      "Item ID:  B0896LJNLH\n",
      "Item Name:  AmazonBasics Serene 16-Piece Old Fashioned and Coolers Glass Drinkware Set\n",
      "Item Desc:  a close up of a glass of water on a white background\n",
      "Image path:  07/075e5d67.jpg\n",
      "Item ID:  B07HCR1LSQ\n",
      "Item Name:  [Find] Amazon Collection Platinum Plated Sterling Silver Clear Princess kattokyu-bikkuzirukoniasutaddopiasu Binaural Headset for Stud Earrings jee00087 _ 120cl00qd00 \n",
      "Item Desc:  a pair of earrings with a square cut diamond and baguets\n",
      "Image path:  c9/c923418f.jpg\n",
      "Item ID:  B075DQBBJZ\n",
      "Item Name:  Arizona Desert Sand Horizon Photo with Wood Hanger\n",
      "Item Desc:  a white and brown photograph of a desert landscape with a sky background\n",
      "Image path:  c6/c6889ed4.jpg\n",
      "Item ID:  B07S74D9T7\n",
      "Item Name:  AmazonBasics Adjustable Speaker Stand - 3.8 to 6-Foot, Steel\n",
      "Item Desc:  a black tripod speaker stands on a white background\n",
      "Image path:  2b/2b90e918.jpg\n",
      "Item ID:  B01N27SMXC\n",
      "Item Name:  Amazon Brand - The Fix Women's Foley Tassel Slide Sandal, Taupe, 6.5 B US\n",
      "Item Desc:  a close up of a pair of sandals with a metal buckle\n",
      "Image path:  2c/2c0416de.jpg\n"
     ]
    },
    {
     "data": {
      "image/png": "[encoded data removed]",
      "text/plain": [
       "<Figure size 640x480 with 5 Axes>"
      ]
     },
     "metadata": {},
     "output_type": "display_data"
    }
   ],
   "source": [
    "total = len(dataset)\n",
    "i=1\n",
    "for row in dataset.iterrows():\n",
    "    item_id = row[1][\"item_id\"]\n",
    "    item_name = row[1][\"item_name_in_en_us\"]\n",
    "    item_desc = row[1][\"image_caption\"]\n",
    "    path = row[1][\"path\"]\n",
    "    image_pil = display_image_with_item(item_id)\n",
    "    print(\"Item ID: \", item_id)\n",
    "    print(\"Item Name: \", item_name)\n",
    "    print(\"Item Desc: \", item_desc)\n",
    "    print(\"Image path: \", path)\n",
    "    plt.subplot(total, 1, i)\n",
    "    plt.imshow(image_pil)\n",
    "    i+=1"
   ]
  },
  {
   "cell_type": "markdown",
   "metadata": {},
   "source": [
    "#### Save dataset back to S3"
   ]
  },
  {
   "cell_type": "code",
   "execution_count": 13,
   "metadata": {},
   "outputs": [],
   "source": [
    "json_path = f\"s3://{YOUR_S3_BUCKET_NAME}/{EDA_FOLDER_NAME}/dataset_with_caption.json\"\n",
    "dataset.to_json(json_path, orient='records')"
   ]
  }
 ],
 "metadata": {
  "kernelspec": {
   "display_name": "venv",
   "language": "python",
   "name": "python3"
  },
  "language_info": {
   "codemirror_mode": {
    "name": "ipython",
    "version": 3
   },
   "file_extension": ".py",
   "mimetype": "text/x-python",
   "name": "python",
   "nbconvert_exporter": "python",
   "pygments_lexer": "ipython3",
   "version": "3.9.6"
  }
 },
 "nbformat": 4,
 "nbformat_minor": 2
}
